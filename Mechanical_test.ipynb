{
 "cells": [
  {
   "cell_type": "code",
   "execution_count": 1,
   "id": "c459e742",
   "metadata": {},
   "outputs": [],
   "source": [
    "from simphony_osp.namespaces import city, rdfs, mechtest\n",
    "from simphony_osp.namespaces import owl,foaf,  dcterms\n",
    "\n",
    "from simphony_osp.tools import semantic2dot, pretty_print\n",
    "from simphony_osp.tools import search,  export_file, import_file, pretty_print, search\n",
    "from simphony_osp.tools.search import sparql\n",
    "\n",
    "from simphony_osp.ontology import RESTRICTION_QUANTIFIER, RESTRICTION_TYPE, OntologyIndividual\n",
    "from simphony_osp.ontology import COMPOSITION_OPERATOR, Composition, Restriction\n",
    "\n",
    "from simphony_osp.ontology.relationship import OntologyRelationship\n",
    "from simphony_osp.ontology.annotation import OntologyAnnotation\n",
    "\n",
    "from simphony_osp.session import Session, core_session\n"
   ]
  },
  {
   "cell_type": "code",
   "execution_count": 2,
   "id": "1ba695ce-5c52-42bb-948d-443f4b28a19e",
   "metadata": {},
   "outputs": [],
   "source": [
    "mat=mechtest.Material()"
   ]
  },
  {
   "cell_type": "code",
   "execution_count": 3,
   "id": "ae0966c2-402f-42ae-8950-9104a308427b",
   "metadata": {},
   "outputs": [],
   "source": [
    "compmat=mechtest.Composite_Material()"
   ]
  },
  {
   "cell_type": "code",
   "execution_count": 4,
   "id": "54d3c76a",
   "metadata": {},
   "outputs": [],
   "source": [
    "matmanu=mechtest.Material_Manufacturing()"
   ]
  },
  {
   "cell_type": "code",
   "execution_count": 5,
   "id": "c907b7d0-8a56-45da-89c8-159e251831b5",
   "metadata": {},
   "outputs": [],
   "source": [
    "manueq=mechtest.Specimen_Preparation_Equipment()"
   ]
  },
  {
   "cell_type": "code",
   "execution_count": 6,
   "id": "77988a17-9aa2-43c8-b381-d463e987565e",
   "metadata": {},
   "outputs": [],
   "source": [
    "speci=mechtest.Specimen()"
   ]
  },
  {
   "cell_type": "code",
   "execution_count": 7,
   "id": "a205bece-2094-4ffd-a099-94a5c28168be",
   "metadata": {},
   "outputs": [],
   "source": [
    "sam=mechtest.Sample()"
   ]
  },
  {
   "cell_type": "code",
   "execution_count": 8,
   "id": "a8f3f163-1a89-42cf-8673-12e3cabf9d9c",
   "metadata": {},
   "outputs": [],
   "source": [
    "exp=mechtest.Experiment()"
   ]
  },
  {
   "cell_type": "code",
   "execution_count": 9,
   "id": "2b10d566-977f-4469-afb3-b88b6aa23f4a",
   "metadata": {},
   "outputs": [],
   "source": [
    "teststan=mechtest.Test_Standards()"
   ]
  },
  {
   "cell_type": "code",
   "execution_count": 10,
   "id": "4c347341-769f-4a29-8749-1cdb72e79fac",
   "metadata": {},
   "outputs": [],
   "source": [
    "spegeo=mechtest.Test_Specimen_Geometry()"
   ]
  },
  {
   "cell_type": "code",
   "execution_count": 11,
   "id": "d6e2ac06-2191-4dcd-b36a-9e37bfc6f66c",
   "metadata": {},
   "outputs": [],
   "source": [
    "inst=mechtest.Testing_Institution()"
   ]
  },
  {
   "cell_type": "code",
   "execution_count": 12,
   "id": "90af6e39-62cc-4f05-b5bc-3f5e4e922044",
   "metadata": {},
   "outputs": [],
   "source": [
    "insttype=mechtest.Institution_Type()"
   ]
  },
  {
   "cell_type": "code",
   "execution_count": 13,
   "id": "bd65c647-1c8a-473d-8e7a-07013c69d281",
   "metadata": {},
   "outputs": [],
   "source": [
    "instname=mechtest.Institution_Name()"
   ]
  },
  {
   "cell_type": "code",
   "execution_count": 14,
   "id": "9901bd49-67d5-471d-a69c-f402ae653e82",
   "metadata": {},
   "outputs": [],
   "source": [
    "instloc=mechtest.Institution_Location()"
   ]
  },
  {
   "cell_type": "code",
   "execution_count": 15,
   "id": "3d9c2c72-c38b-41f8-bc29-21b80a60a918",
   "metadata": {},
   "outputs": [],
   "source": [
    "lab=mechtest.Laboratory()"
   ]
  },
  {
   "cell_type": "code",
   "execution_count": 16,
   "id": "8258be66-633b-430c-9127-f4ed8b7c36f0",
   "metadata": {},
   "outputs": [],
   "source": [
    "labname=mechtest.Laboratory_Name()"
   ]
  },
  {
   "cell_type": "code",
   "execution_count": 17,
   "id": "3197c685-8a76-428e-91ff-d6c2771138b6",
   "metadata": {},
   "outputs": [],
   "source": [
    "pers=mechtest.Personnel()"
   ]
  },
  {
   "cell_type": "code",
   "execution_count": 18,
   "id": "9827512c-d67e-4f9e-9ed4-9f898b78f0b2",
   "metadata": {},
   "outputs": [],
   "source": [
    "persname=mechtest.Personnel_Name()"
   ]
  },
  {
   "cell_type": "code",
   "execution_count": 19,
   "id": "00b549b7-c5fe-4bd4-bae1-6953d62fd4f3",
   "metadata": {},
   "outputs": [],
   "source": [
    "test=mechtest.Test()"
   ]
  },
  {
   "cell_type": "code",
   "execution_count": 20,
   "id": "92420b49-d566-43d0-926a-5adedb2bc854",
   "metadata": {},
   "outputs": [],
   "source": [
    "testenv=mechtest.Test_Environment()"
   ]
  },
  {
   "cell_type": "code",
   "execution_count": 21,
   "id": "73be1b79-5b16-4ce0-b488-7ac428687418",
   "metadata": {},
   "outputs": [],
   "source": [
    "testpara=mechtest.Test_Parameter()"
   ]
  },
  {
   "cell_type": "code",
   "execution_count": 22,
   "id": "ce652f77-e8a4-4a2d-a0a1-4f4b97326386",
   "metadata": {},
   "outputs": [],
   "source": [
    "testMeth=mechtest.Testing_Methodology()"
   ]
  },
  {
   "cell_type": "code",
   "execution_count": 23,
   "id": "1b310770-a268-42a2-9189-42ceeb1318e5",
   "metadata": {},
   "outputs": [],
   "source": [
    "testeq=mechtest.Test_Equipment()"
   ]
  },
  {
   "cell_type": "code",
   "execution_count": 24,
   "id": "91e1b4fa-2622-4c79-9358-9a94f61cd219",
   "metadata": {},
   "outputs": [],
   "source": [
    "data=mechtest.Data()"
   ]
  },
  {
   "cell_type": "code",
   "execution_count": 25,
   "id": "55c9142c-30a7-4802-87ee-f04c31a318bb",
   "metadata": {},
   "outputs": [],
   "source": [
    "datast=mechtest.Data_Storage()"
   ]
  },
  {
   "cell_type": "code",
   "execution_count": 26,
   "id": "44972220-dced-43de-8d35-b6e4e711d1b0",
   "metadata": {},
   "outputs": [],
   "source": [
    "datastto=mechtest.Data_Storage_Tool()"
   ]
  },
  {
   "cell_type": "code",
   "execution_count": 27,
   "id": "521af739-476d-44d7-ad12-b2e5d0bfee9c",
   "metadata": {},
   "outputs": [],
   "source": [
    "dataana=mechtest.Data_Analysis()"
   ]
  },
  {
   "cell_type": "code",
   "execution_count": 28,
   "id": "6be4af3a-54a3-46ac-b5a1-608a9974d459",
   "metadata": {},
   "outputs": [],
   "source": [
    "dataanato=mechtest.Data_Analysis_Tool()"
   ]
  },
  {
   "cell_type": "code",
   "execution_count": 29,
   "id": "895d838b-e90f-40cc-b01d-d9cb4edab216",
   "metadata": {},
   "outputs": [],
   "source": [
    "failmo=mechtest.Failure_Mode()"
   ]
  },
  {
   "cell_type": "code",
   "execution_count": 30,
   "id": "0d8c3ec5-c4a4-4b0d-8dc1-e33c097eb245",
   "metadata": {},
   "outputs": [],
   "source": [
    "rescal=mechtest.Result_Calculation()"
   ]
  },
  {
   "cell_type": "code",
   "execution_count": 31,
   "id": "8ce19c19-ec96-4c42-bf49-d38b23518292",
   "metadata": {},
   "outputs": [],
   "source": [
    "datavis=mechtest.Data_Visualization()"
   ]
  },
  {
   "cell_type": "code",
   "execution_count": 32,
   "id": "53865ace-f8b0-49dd-a465-e0897bfd5343",
   "metadata": {},
   "outputs": [],
   "source": [
    "mat.connect(compmat,rel=mechtest.has)"
   ]
  },
  {
   "cell_type": "code",
   "execution_count": 33,
   "id": "2c923e18-3315-452d-af1a-486f6accf770",
   "metadata": {},
   "outputs": [],
   "source": [
    "mat.connect(matmanu,rel=mechtest.has)"
   ]
  },
  {
   "cell_type": "code",
   "execution_count": 34,
   "id": "9e24969a-cf16-44ca-9cbf-70643437a6b5",
   "metadata": {},
   "outputs": [],
   "source": [
    "exp.connect(sam,rel=mechtest.has)"
   ]
  },
  {
   "cell_type": "code",
   "execution_count": 35,
   "id": "ed4f409c-c370-40df-bb1d-9b7a77bca0d0",
   "metadata": {},
   "outputs": [],
   "source": [
    "matmanu.connect(manueq,rel=mechtest.utilizes)"
   ]
  },
  {
   "cell_type": "code",
   "execution_count": 36,
   "id": "04ce53e4-d7c0-43d9-93b5-0401125e4de4",
   "metadata": {},
   "outputs": [],
   "source": [
    "exp.connect(inst,rel=mechtest.isConductedby)"
   ]
  },
  {
   "cell_type": "code",
   "execution_count": 37,
   "id": "2629c531-0d88-4987-a8cc-1f7327872ce8",
   "metadata": {},
   "outputs": [],
   "source": [
    "inst.connect(insttype,rel=mechtest.has)"
   ]
  },
  {
   "cell_type": "code",
   "execution_count": 38,
   "id": "7c7fe32f",
   "metadata": {},
   "outputs": [],
   "source": [
    "inst.connect(instloc,rel=mechtest.has)"
   ]
  },
  {
   "cell_type": "code",
   "execution_count": 39,
   "id": "fd5dc31c",
   "metadata": {},
   "outputs": [],
   "source": [
    "inst.connect(instname,rel=mechtest.has)"
   ]
  },
  {
   "cell_type": "code",
   "execution_count": 40,
   "id": "5269765d",
   "metadata": {},
   "outputs": [],
   "source": [
    "inst.connect(lab,rel=mechtest.has)"
   ]
  },
  {
   "cell_type": "code",
   "execution_count": 41,
   "id": "9f7d89c7-8fb5-4fb8-a7f8-0be6f42f60cb",
   "metadata": {},
   "outputs": [],
   "source": [
    "lab.connect(labname,rel=mechtest.has)"
   ]
  },
  {
   "cell_type": "code",
   "execution_count": 42,
   "id": "1e8453fb-6d29-48a6-9aa5-a3728da97b5c",
   "metadata": {},
   "outputs": [],
   "source": [
    "lab.connect(pers,rel=mechtest.has)"
   ]
  },
  {
   "cell_type": "code",
   "execution_count": 43,
   "id": "854a2853-2c4a-485e-bb3c-6e58fdc3545e",
   "metadata": {},
   "outputs": [],
   "source": [
    "pers.connect(persname,rel=mechtest.has)"
   ]
  },
  {
   "cell_type": "code",
   "execution_count": 44,
   "id": "9b5d1ecf-d4f2-4f6a-8ba6-8a39a55fa71d",
   "metadata": {},
   "outputs": [],
   "source": [
    "compmat.connect(sam,rel=mechtest.has)"
   ]
  },
  {
   "cell_type": "code",
   "execution_count": 45,
   "id": "8fa76189-b652-4284-aff7-3e17f91bd43f",
   "metadata": {},
   "outputs": [],
   "source": [
    "sam.connect(test,rel=mechtest.has)"
   ]
  },
  {
   "cell_type": "code",
   "execution_count": 46,
   "id": "b6ccc918",
   "metadata": {},
   "outputs": [],
   "source": [
    "sam.connect(speci,rel=mechtest.has)"
   ]
  },
  {
   "cell_type": "code",
   "execution_count": 47,
   "id": "f890e6a8-c614-4b5b-8de8-c46b8c7935e8",
   "metadata": {},
   "outputs": [],
   "source": [
    "speci.connect(matmanu,rel=mechtest.hasPart)"
   ]
  },
  {
   "cell_type": "code",
   "execution_count": 48,
   "id": "8eaed83d-9b2a-496a-a439-aa19796610d4",
   "metadata": {},
   "outputs": [],
   "source": [
    "test.connect(data,rel=mechtest.has)"
   ]
  },
  {
   "cell_type": "code",
   "execution_count": 49,
   "id": "e741fc02-4b1b-455f-99c4-751a06aa6b22",
   "metadata": {},
   "outputs": [],
   "source": [
    "data.connect(datast,rel=mechtest.has)"
   ]
  },
  {
   "cell_type": "code",
   "execution_count": 50,
   "id": "628d5e6c-2636-4c36-9ffd-32b60ec7ce40",
   "metadata": {},
   "outputs": [],
   "source": [
    "datast.connect(datastto,rel=mechtest.utilizes)"
   ]
  },
  {
   "cell_type": "code",
   "execution_count": 51,
   "id": "a27de02a-3230-4d8b-a48f-3bce056f004f",
   "metadata": {},
   "outputs": [],
   "source": [
    "datast.connect(dataana,rel=mechtest.has)"
   ]
  },
  {
   "cell_type": "code",
   "execution_count": 52,
   "id": "9ca36708-3440-41dc-a523-3e1f449a4e78",
   "metadata": {},
   "outputs": [],
   "source": [
    "dataana.connect(dataanato,rel=mechtest.utilizes)"
   ]
  },
  {
   "cell_type": "code",
   "execution_count": 53,
   "id": "9d2cefff",
   "metadata": {},
   "outputs": [],
   "source": [
    "dataana.connect(failmo,rel=mechtest.has)"
   ]
  },
  {
   "cell_type": "code",
   "execution_count": 54,
   "id": "8d341b1c",
   "metadata": {},
   "outputs": [],
   "source": [
    "dataana.connect(rescal,rel=mechtest.has)"
   ]
  },
  {
   "cell_type": "code",
   "execution_count": 55,
   "id": "f024bd69",
   "metadata": {},
   "outputs": [],
   "source": [
    "dataana.connect(datavis,rel=mechtest.has)"
   ]
  },
  {
   "cell_type": "code",
   "execution_count": 56,
   "id": "257500cd-2dd7-47c2-bf28-12367eae32f7",
   "metadata": {},
   "outputs": [],
   "source": [
    "test.connect(testenv,rel=mechtest.has)"
   ]
  },
  {
   "cell_type": "code",
   "execution_count": 57,
   "id": "74cdcc80-d887-40a8-91e1-18e60a7a9e4c",
   "metadata": {},
   "outputs": [],
   "source": [
    "test.connect(teststan,rel=mechtest.follows)"
   ]
  },
  {
   "cell_type": "code",
   "execution_count": 58,
   "id": "3197a94c-601f-41ff-b7b5-9fcbc8ae350b",
   "metadata": {},
   "outputs": [],
   "source": [
    "speci.connect(teststan,rel=mechtest.follows)"
   ]
  },
  {
   "cell_type": "code",
   "execution_count": 59,
   "id": "8bc10afe-f239-4731-96fa-411039d24041",
   "metadata": {},
   "outputs": [],
   "source": [
    "teststan.connect(dataana,rel=mechtest.hasPart)"
   ]
  },
  {
   "cell_type": "code",
   "execution_count": 60,
   "id": "533a41ca",
   "metadata": {},
   "outputs": [],
   "source": [
    "teststan.connect(testMeth,rel=mechtest.hasPart)"
   ]
  },
  {
   "cell_type": "code",
   "execution_count": 61,
   "id": "fbcbf7c4",
   "metadata": {},
   "outputs": [],
   "source": [
    "teststan.connect(testeq,rel=mechtest.hasPart)"
   ]
  },
  {
   "cell_type": "code",
   "execution_count": 62,
   "id": "aaef3ed2",
   "metadata": {},
   "outputs": [],
   "source": [
    "teststan.connect(testpara,rel=mechtest.hasPart)"
   ]
  },
  {
   "cell_type": "code",
   "execution_count": 63,
   "id": "af42b15d-22a1-424c-8b8c-f033142383a5",
   "metadata": {},
   "outputs": [],
   "source": [
    "test.connect(testMeth,rel=mechtest.hasPart)"
   ]
  },
  {
   "cell_type": "code",
   "execution_count": 64,
   "id": "a0fd02cc",
   "metadata": {},
   "outputs": [],
   "source": [
    "test.connect(testpara,rel=mechtest.hasPart)"
   ]
  },
  {
   "cell_type": "code",
   "execution_count": 65,
   "id": "cc8e8d09",
   "metadata": {},
   "outputs": [],
   "source": [
    "test.connect(testeq,rel=mechtest.hasPart)"
   ]
  },
  {
   "cell_type": "code",
   "execution_count": 66,
   "id": "e41a0650-d212-42e4-8010-c1de5a12bc4c",
   "metadata": {},
   "outputs": [],
   "source": [
    "matmanu.connect(teststan,rel=mechtest.follows)"
   ]
  },
  {
   "cell_type": "code",
   "execution_count": 67,
   "id": "734ed61d",
   "metadata": {},
   "outputs": [],
   "source": [
    "manueq.connect(teststan,rel=mechtest.follows)"
   ]
  },
  {
   "cell_type": "code",
   "execution_count": 68,
   "id": "6b245a17-d65e-48b1-98fe-8f51fe9f4d11",
   "metadata": {},
   "outputs": [],
   "source": [
    "teststan.connect(spegeo,rel=mechtest.hasPart)"
   ]
  },
  {
   "cell_type": "code",
   "execution_count": 69,
   "id": "ac534a3c-e99a-4f6a-8c05-f470c3460d4b",
   "metadata": {},
   "outputs": [],
   "source": [
    "speci.connect(spegeo,rel=mechtest.hasPart)"
   ]
  },
  {
   "cell_type": "code",
   "execution_count": 70,
   "id": "82ade157-3756-4c16-8d26-16c9512a28b0",
   "metadata": {},
   "outputs": [],
   "source": [
    "spegeo.connect(manueq,rel=mechtest.utilizes)"
   ]
  },
  {
   "cell_type": "code",
   "execution_count": 71,
   "id": "78143c58-4bcb-4562-b545-9b8cf9a01d69",
   "metadata": {
    "scrolled": true
   },
   "outputs": [
    {
     "name": "stdout",
     "output_type": "stream",
     "text": [
      "- Ontology individual:\n",
      "  identifier: 7cda6d85-fb22-4920-bb27-15aca251e253\n",
      "  type: None (mechtest)\n",
      "  superclasses: None (mechtest), None (mechtest), Thing (owl)\n",
      "   |_Relationship http://www.semanticweb.org/qihan/ontologies/2023/6/untitled-ontology-12/has (mechtest):\n",
      "     - Ontology individual of class Material Manufacturing\n",
      "      . identifier: a2ee8f85-15c4-44e5-a00f-14400948c24f\n",
      "      .  |_Relationship http://www.semanticweb.org/qihan/ontologies/2023/6/untitled-ontology-12/follows (mechtest):\n",
      "      .  | - Ontology individual of class Test Standards\n",
      "      .  |    identifier: fe51c8da-0b81-4184-9d62-39bd349ef128\n",
      "      .  |     |_Relationship http://www.semanticweb.org/qihan/ontologies/2023/6/untitled-ontology-12/hasPart (mechtest):\n",
      "      .  |       - Ontology individual of class Data Analysis\n",
      "      .  |        . identifier: 22d8ea4f-8aba-4211-b50c-9c5c9384ea45\n",
      "      .  |        .  |_Relationship http://www.semanticweb.org/qihan/ontologies/2023/6/untitled-ontology-12/has (mechtest):\n",
      "      .  |        .  | - Ontology individual of class Data Visualization\n",
      "      .  |        .  |  . identifier: b4adb440-7f51-4b85-b8bb-8f636ac3c532\n",
      "      .  |        .  | - Ontology individual of class Result Calculation\n",
      "      .  |        .  |  . identifier: 9951c8ef-0e8e-4027-9ad4-b3ee248ead5a\n",
      "      .  |        .  | - Ontology individual of class http://www.semanticweb.org/qihan/ontologies/2023/6/untitled-ontology-12/Failure_Mode\n",
      "      .  |        .  |    identifier: 496bd35c-230d-4555-86e0-bafd31096ce3\n",
      "      .  |        .  |_Relationship http://www.semanticweb.org/qihan/ontologies/2023/6/untitled-ontology-12/utilizes (mechtest):\n",
      "      .  |        .    - Ontology individual of class http://www.semanticweb.org/qihan/ontologies/2023/6/untitled-ontology-12/Data_Analysis_Tool\n",
      "      .  |        .       identifier: a3334eb8-436d-4c3d-afdd-aef313361a4d\n",
      "      .  |       - Ontology individual of class Test Equipment\n",
      "      .  |        . identifier: b0c46d70-8722-4415-930e-cbb0513e261a\n",
      "      .  |       - Ontology individual of class Test Parameter\n",
      "      .  |        . identifier: 6a53cdc5-6583-41eb-aa13-1968f5fbfc00\n",
      "      .  |       - Ontology individual of class Test Specimen Geometry\n",
      "      .  |        . identifier: 1dded377-b0f5-4e5f-b0df-3a142e855d5f\n",
      "      .  |        .  |_Relationship http://www.semanticweb.org/qihan/ontologies/2023/6/untitled-ontology-12/utilizes (mechtest):\n",
      "      .  |        .    - Ontology individual of class Specimen Preparation Equipment\n",
      "      .  |        .       identifier: 757c2ed0-5a44-4feb-a5a3-bc78de84b3bf\n",
      "      .  |        .        |_Relationship http://www.semanticweb.org/qihan/ontologies/2023/6/untitled-ontology-12/follows (mechtest):\n",
      "      .  |        .          - Ontology individual of class Test Standards\n",
      "      .  |        .             identifier: fe51c8da-0b81-4184-9d62-39bd349ef128\n",
      "      .  |        .             (already printed)\n",
      "      .  |       - Ontology individual of class Testing Method\n",
      "      .  |          identifier: 4aa53220-b9b4-4a5e-8ac3-f19451805a4c\n",
      "      .  |_Relationship http://www.semanticweb.org/qihan/ontologies/2023/6/untitled-ontology-12/utilizes (mechtest):\n",
      "      .    - Ontology individual of class Specimen Preparation Equipment\n",
      "      .       identifier: 757c2ed0-5a44-4feb-a5a3-bc78de84b3bf\n",
      "      .       (already printed)\n",
      "     - Ontology individual of class http://www.semanticweb.org/qihan/ontologies/2023/6/untitled-ontology-12/Composite_Material\n",
      "        identifier: 899db765-360e-49fb-93fa-1b87909c7f0d\n",
      "         |_Relationship http://www.semanticweb.org/qihan/ontologies/2023/6/untitled-ontology-12/has (mechtest):\n",
      "           - Ontology individual of class Pre-Testing Phase\n",
      "              identifier: 7754ede6-5a94-435a-9bea-f647a53d4884\n",
      "               |_Relationship http://www.semanticweb.org/qihan/ontologies/2023/6/untitled-ontology-12/has (mechtest):\n",
      "                 - Ontology individual of class http://www.semanticweb.org/qihan/ontologies/2023/6/untitled-ontology-12/Specimen\n",
      "                  . identifier: ffa90948-b9c9-4588-95ee-50582f560a1e\n",
      "                  .  |_Relationship http://www.semanticweb.org/qihan/ontologies/2023/6/untitled-ontology-12/follows (mechtest):\n",
      "                  .  | - Ontology individual of class Test Standards\n",
      "                  .  |    identifier: fe51c8da-0b81-4184-9d62-39bd349ef128\n",
      "                  .  |    (already printed)\n",
      "                  .  |_Relationship http://www.semanticweb.org/qihan/ontologies/2023/6/untitled-ontology-12/hasPart (mechtest):\n",
      "                  .    - Ontology individual of class Material Manufacturing\n",
      "                  .     . identifier: a2ee8f85-15c4-44e5-a00f-14400948c24f\n",
      "                  .     . (already printed)\n",
      "                  .    - Ontology individual of class Test Specimen Geometry\n",
      "                  .       identifier: 1dded377-b0f5-4e5f-b0df-3a142e855d5f\n",
      "                  .       (already printed)\n",
      "                 - Ontology individual of class http://www.semanticweb.org/qihan/ontologies/2023/6/untitled-ontology-12/Test\n",
      "                    identifier: 967af49b-9497-4dd6-b60b-87cc3837a29f\n",
      "                     |_Relationship http://www.semanticweb.org/qihan/ontologies/2023/6/untitled-ontology-12/follows (mechtest):\n",
      "                     | - Ontology individual of class Test Standards\n",
      "                     |    identifier: fe51c8da-0b81-4184-9d62-39bd349ef128\n",
      "                     |    (already printed)\n",
      "                     |_Relationship http://www.semanticweb.org/qihan/ontologies/2023/6/untitled-ontology-12/has (mechtest):\n",
      "                     | - Ontology individual of class Data\n",
      "                     |  . identifier: be876ae8-2db1-4e76-9396-25318d906153\n",
      "                     |  .  |_Relationship http://www.semanticweb.org/qihan/ontologies/2023/6/untitled-ontology-12/has (mechtest):\n",
      "                     |  .    - Ontology individual of class Data Storage\n",
      "                     |  .       identifier: 89406d1a-2e05-4f31-b5cb-228ff22f6026\n",
      "                     |  .        |_Relationship http://www.semanticweb.org/qihan/ontologies/2023/6/untitled-ontology-12/has (mechtest):\n",
      "                     |  .        | - Ontology individual of class Data Analysis\n",
      "                     |  .        |    identifier: 22d8ea4f-8aba-4211-b50c-9c5c9384ea45\n",
      "                     |  .        |    (already printed)\n",
      "                     |  .        |_Relationship http://www.semanticweb.org/qihan/ontologies/2023/6/untitled-ontology-12/utilizes (mechtest):\n",
      "                     |  .          - Ontology individual of class Data Storage Tool\n",
      "                     |  .             identifier: 609a64f8-2747-4ce3-93ab-cbdab15cc1dc\n",
      "                     | - Ontology individual of class Test Environment\n",
      "                     |    identifier: 3cabac61-a6e0-41f5-944a-2fb8ff37a0e0\n",
      "                     |_Relationship http://www.semanticweb.org/qihan/ontologies/2023/6/untitled-ontology-12/hasPart (mechtest):\n",
      "                       - Ontology individual of class Test Equipment\n",
      "                        . identifier: b0c46d70-8722-4415-930e-cbb0513e261a\n",
      "                        . (already printed)\n",
      "                       - Ontology individual of class Test Parameter\n",
      "                        . identifier: 6a53cdc5-6583-41eb-aa13-1968f5fbfc00\n",
      "                        . (already printed)\n",
      "                       - Ontology individual of class Testing Method\n",
      "                          identifier: 4aa53220-b9b4-4a5e-8ac3-f19451805a4c\n",
      "                          (already printed)\n"
     ]
    }
   ],
   "source": [
    "pretty_print(mat)"
   ]
  },
  {
   "cell_type": "code",
   "execution_count": 72,
   "id": "130a6077-72e4-4a1b-bbc4-419d514c426c",
   "metadata": {
    "scrolled": true
   },
   "outputs": [
    {
     "name": "stdout",
     "output_type": "stream",
     "text": [
      "- Ontology individual:\n",
      "  identifier: 4a7d6d17-7ebd-49d2-a770-6fe4eceaf6b8\n",
      "  type: None (mechtest)\n",
      "  superclasses: None (mechtest), Thing (owl)\n",
      "   |_Relationship http://www.semanticweb.org/qihan/ontologies/2023/6/untitled-ontology-12/has (mechtest):\n",
      "   | - Ontology individual of class Pre-Testing Phase\n",
      "   |    identifier: 7754ede6-5a94-435a-9bea-f647a53d4884\n",
      "   |     |_Relationship http://www.semanticweb.org/qihan/ontologies/2023/6/untitled-ontology-12/has (mechtest):\n",
      "   |       - Ontology individual of class http://www.semanticweb.org/qihan/ontologies/2023/6/untitled-ontology-12/Specimen\n",
      "   |        . identifier: ffa90948-b9c9-4588-95ee-50582f560a1e\n",
      "   |        .  |_Relationship http://www.semanticweb.org/qihan/ontologies/2023/6/untitled-ontology-12/follows (mechtest):\n",
      "   |        .  | - Ontology individual of class Test Standards\n",
      "   |        .  |    identifier: fe51c8da-0b81-4184-9d62-39bd349ef128\n",
      "   |        .  |     |_Relationship http://www.semanticweb.org/qihan/ontologies/2023/6/untitled-ontology-12/hasPart (mechtest):\n",
      "   |        .  |       - Ontology individual of class Data Analysis\n",
      "   |        .  |        . identifier: 22d8ea4f-8aba-4211-b50c-9c5c9384ea45\n",
      "   |        .  |        .  |_Relationship http://www.semanticweb.org/qihan/ontologies/2023/6/untitled-ontology-12/has (mechtest):\n",
      "   |        .  |        .  | - Ontology individual of class Data Visualization\n",
      "   |        .  |        .  |  . identifier: b4adb440-7f51-4b85-b8bb-8f636ac3c532\n",
      "   |        .  |        .  | - Ontology individual of class Result Calculation\n",
      "   |        .  |        .  |  . identifier: 9951c8ef-0e8e-4027-9ad4-b3ee248ead5a\n",
      "   |        .  |        .  | - Ontology individual of class http://www.semanticweb.org/qihan/ontologies/2023/6/untitled-ontology-12/Failure_Mode\n",
      "   |        .  |        .  |    identifier: 496bd35c-230d-4555-86e0-bafd31096ce3\n",
      "   |        .  |        .  |_Relationship http://www.semanticweb.org/qihan/ontologies/2023/6/untitled-ontology-12/utilizes (mechtest):\n",
      "   |        .  |        .    - Ontology individual of class http://www.semanticweb.org/qihan/ontologies/2023/6/untitled-ontology-12/Data_Analysis_Tool\n",
      "   |        .  |        .       identifier: a3334eb8-436d-4c3d-afdd-aef313361a4d\n",
      "   |        .  |       - Ontology individual of class Test Equipment\n",
      "   |        .  |        . identifier: b0c46d70-8722-4415-930e-cbb0513e261a\n",
      "   |        .  |       - Ontology individual of class Test Parameter\n",
      "   |        .  |        . identifier: 6a53cdc5-6583-41eb-aa13-1968f5fbfc00\n",
      "   |        .  |       - Ontology individual of class Test Specimen Geometry\n",
      "   |        .  |        . identifier: 1dded377-b0f5-4e5f-b0df-3a142e855d5f\n",
      "   |        .  |        .  |_Relationship http://www.semanticweb.org/qihan/ontologies/2023/6/untitled-ontology-12/utilizes (mechtest):\n",
      "   |        .  |        .    - Ontology individual of class Specimen Preparation Equipment\n",
      "   |        .  |        .       identifier: 757c2ed0-5a44-4feb-a5a3-bc78de84b3bf\n",
      "   |        .  |        .        |_Relationship http://www.semanticweb.org/qihan/ontologies/2023/6/untitled-ontology-12/follows (mechtest):\n",
      "   |        .  |        .          - Ontology individual of class Test Standards\n",
      "   |        .  |        .             identifier: fe51c8da-0b81-4184-9d62-39bd349ef128\n",
      "   |        .  |        .             (already printed)\n",
      "   |        .  |       - Ontology individual of class Testing Method\n",
      "   |        .  |          identifier: 4aa53220-b9b4-4a5e-8ac3-f19451805a4c\n",
      "   |        .  |_Relationship http://www.semanticweb.org/qihan/ontologies/2023/6/untitled-ontology-12/hasPart (mechtest):\n",
      "   |        .    - Ontology individual of class Material Manufacturing\n",
      "   |        .     . identifier: a2ee8f85-15c4-44e5-a00f-14400948c24f\n",
      "   |        .     .  |_Relationship http://www.semanticweb.org/qihan/ontologies/2023/6/untitled-ontology-12/follows (mechtest):\n",
      "   |        .     .  | - Ontology individual of class Test Standards\n",
      "   |        .     .  |    identifier: fe51c8da-0b81-4184-9d62-39bd349ef128\n",
      "   |        .     .  |    (already printed)\n",
      "   |        .     .  |_Relationship http://www.semanticweb.org/qihan/ontologies/2023/6/untitled-ontology-12/utilizes (mechtest):\n",
      "   |        .     .    - Ontology individual of class Specimen Preparation Equipment\n",
      "   |        .     .       identifier: 757c2ed0-5a44-4feb-a5a3-bc78de84b3bf\n",
      "   |        .     .       (already printed)\n",
      "   |        .    - Ontology individual of class Test Specimen Geometry\n",
      "   |        .       identifier: 1dded377-b0f5-4e5f-b0df-3a142e855d5f\n",
      "   |        .       (already printed)\n",
      "   |       - Ontology individual of class http://www.semanticweb.org/qihan/ontologies/2023/6/untitled-ontology-12/Test\n",
      "   |          identifier: 967af49b-9497-4dd6-b60b-87cc3837a29f\n",
      "   |           |_Relationship http://www.semanticweb.org/qihan/ontologies/2023/6/untitled-ontology-12/follows (mechtest):\n",
      "   |           | - Ontology individual of class Test Standards\n",
      "   |           |    identifier: fe51c8da-0b81-4184-9d62-39bd349ef128\n",
      "   |           |    (already printed)\n",
      "   |           |_Relationship http://www.semanticweb.org/qihan/ontologies/2023/6/untitled-ontology-12/has (mechtest):\n",
      "   |           | - Ontology individual of class Data\n",
      "   |           |  . identifier: be876ae8-2db1-4e76-9396-25318d906153\n",
      "   |           |  .  |_Relationship http://www.semanticweb.org/qihan/ontologies/2023/6/untitled-ontology-12/has (mechtest):\n",
      "   |           |  .    - Ontology individual of class Data Storage\n",
      "   |           |  .       identifier: 89406d1a-2e05-4f31-b5cb-228ff22f6026\n",
      "   |           |  .        |_Relationship http://www.semanticweb.org/qihan/ontologies/2023/6/untitled-ontology-12/has (mechtest):\n",
      "   |           |  .        | - Ontology individual of class Data Analysis\n",
      "   |           |  .        |    identifier: 22d8ea4f-8aba-4211-b50c-9c5c9384ea45\n",
      "   |           |  .        |    (already printed)\n",
      "   |           |  .        |_Relationship http://www.semanticweb.org/qihan/ontologies/2023/6/untitled-ontology-12/utilizes (mechtest):\n",
      "   |           |  .          - Ontology individual of class Data Storage Tool\n",
      "   |           |  .             identifier: 609a64f8-2747-4ce3-93ab-cbdab15cc1dc\n",
      "   |           | - Ontology individual of class Test Environment\n",
      "   |           |    identifier: 3cabac61-a6e0-41f5-944a-2fb8ff37a0e0\n",
      "   |           |_Relationship http://www.semanticweb.org/qihan/ontologies/2023/6/untitled-ontology-12/hasPart (mechtest):\n",
      "   |             - Ontology individual of class Test Equipment\n",
      "   |              . identifier: b0c46d70-8722-4415-930e-cbb0513e261a\n",
      "   |              . (already printed)\n",
      "   |             - Ontology individual of class Test Parameter\n",
      "   |              . identifier: 6a53cdc5-6583-41eb-aa13-1968f5fbfc00\n",
      "   |              . (already printed)\n",
      "   |             - Ontology individual of class Testing Method\n",
      "   |                identifier: 4aa53220-b9b4-4a5e-8ac3-f19451805a4c\n",
      "   |                (already printed)\n",
      "   |_Relationship http://www.semanticweb.org/qihan/ontologies/2023/6/untitled-ontology-12/isConductedby (mechtest):\n",
      "     - Ontology individual of class Testing Institution\n",
      "        identifier: 10cd4ad6-eef4-48e9-884c-630e904daa02\n",
      "         |_Relationship http://www.semanticweb.org/qihan/ontologies/2023/6/untitled-ontology-12/has (mechtest):\n",
      "           - Ontology individual of class Institution Location\n",
      "            . identifier: 6811044d-e4cb-4473-8ed7-a17242d09bef\n",
      "           - Ontology individual of class Institution Type\n",
      "            . identifier: ebb23a3c-1585-444f-b36e-ae560fda63b1\n",
      "           - Ontology individual of class Institution name\n",
      "            . identifier: 785d7a29-8edc-4b8a-83e6-d8925ff02e0e\n",
      "           - Ontology individual of class Laboratory\n",
      "              identifier: f477c692-2f9e-4422-a905-205de6eeb8b0\n",
      "               |_Relationship http://www.semanticweb.org/qihan/ontologies/2023/6/untitled-ontology-12/has (mechtest):\n",
      "                 - Ontology individual of class Laboratory name\n",
      "                  . identifier: 9654ad18-a462-45d4-b161-b55778c6e6a7\n",
      "                 - Ontology individual of class Personnel\n",
      "                    identifier: a5b1fa5c-772a-4df7-9fb6-1f70a1b3faf1\n",
      "                     |_Relationship http://www.semanticweb.org/qihan/ontologies/2023/6/untitled-ontology-12/has (mechtest):\n",
      "                       - Ontology individual of class Personnel name\n",
      "                          identifier: b603c029-2132-43f7-873c-13e2f76e96dc\n"
     ]
    }
   ],
   "source": [
    "pretty_print(exp)"
   ]
  },
  {
   "cell_type": "markdown",
   "id": "7e964962-7d44-44ae-bd12-5418d53890cf",
   "metadata": {},
   "source": [
    "# "
   ]
  }
 ],
 "metadata": {
  "kernelspec": {
   "display_name": "Python 3 (ipykernel)",
   "language": "python",
   "name": "python3"
  },
  "language_info": {
   "codemirror_mode": {
    "name": "ipython",
    "version": 3
   },
   "file_extension": ".py",
   "mimetype": "text/x-python",
   "name": "python",
   "nbconvert_exporter": "python",
   "pygments_lexer": "ipython3",
   "version": "3.10.12"
  }
 },
 "nbformat": 4,
 "nbformat_minor": 5
}
